{
 "cells": [
  {
   "cell_type": "markdown",
   "metadata": {},
   "source": [
    "*Filière :* ING3 - Tronc commun\n",
    "\n",
    "*Auteurs :*\n",
    "**Michael KISUKA** et\n",
    "**Nivethan SIVANESAN**\n",
    "\n",
    "*Professeur référent :* \n",
    "**TAJINI Badr**\n",
    "\n",
    "*Année :* 2024-2025\n",
    "\n",
    "**ESIEE-IT**"
   ]
  },
  {
   "cell_type": "markdown",
   "metadata": {},
   "source": [
    "# Projet : Classification de fruits avec un arbre de décision\n",
    "\n",
    "## Phase 1 : Construction d'un classificateur de fruits basé sur des règles\n",
    "\n",
    "### Objectif\n",
    "L'objectif de cette phase est de se familiariser avec la construction d'un classificateur de fruits en utilisant des règles simples. Les étapes incluent :\n",
    "- **Chargement des données** : Comprendre la structure des données de fruits.\n",
    "- **Préparation des données** : Encodage des caractéristiques catégorielles en valeurs numériques.\n",
    "- **Construction du modèle** : Instanciation d'un modèle d'arbre de décision et prédiction basée sur des règles.\n",
    "\n",
    "---\n",
    "\n",
    "### Étapes\n",
    "\n",
    "#### 1. Chargement des données de fruits\n",
    "Le dataset contient des fruits avec des caractéristiques telles que la couleur, la taille et la forme. Ces caractéristiques sont utilisées pour prédire le type de fruit.\n"
   ]
  },
  {
   "cell_type": "code",
   "execution_count": null,
   "metadata": {},
   "outputs": [],
   "source": [
    "from sklearn.tree import DecisionTreeClassifier\n",
    "from sklearn.preprocessing import LabelEncoder\n",
    "\n",
    "# Données d'entraînement\n",
    "attributs = [\n",
    "    [\"Rouge\", \"Moyenne\", \"Ronde\"],\n",
    "    [\"Jaune\", \"Allongée\", \"Courbée\"],\n",
    "    [\"Vert\", \"Moyenne\", \"Ronde\"],\n",
    "    [\"Rouge\", \"Grande\", \"Courbée\"],\n",
    "    [\"Jaune\", \"Moyenne\", \"Ronde\"],\n",
    "    [\"Noir\", \"Allongée\", \"Courbée\"],\n",
    "    [\"Orange\", \"Moyenne\", \"Ronde\"],\n",
    "    [\"Violet\", \"Petite\", \"Ronde\"]\n",
    "]\n",
    "etiquettes = [\"Pomme\", \"Banane\", \"Pomme\", \"Poivron\", \"Citron\", \"Aubergine\", \"Orange\", \"Raisin\"]"
   ]
  },
  {
   "cell_type": "markdown",
   "metadata": {},
   "source": [
    "#### 2. Préparation des données\n",
    "Pour améliorer l’apprentissage, on encode les valeurs catégorielles (couleur, taille, forme) en nombres à l'aide de LabelEncoder."
   ]
  },
  {
   "cell_type": "code",
   "execution_count": null,
   "metadata": {},
   "outputs": [],
   "source": [
    "# Encodage des caractéristiques\n",
    "encoder_couleur = LabelEncoder()\n",
    "encoder_taille = LabelEncoder()\n",
    "encoder_forme = LabelEncoder()\n",
    "\n",
    "couleurs = [fruit[0] for fruit in attributs]\n",
    "tailles = [fruit[1] for fruit in attributs]\n",
    "formes = [fruit[2] for fruit in attributs]\n",
    "\n",
    "couleurs_encode = encoder_couleur.fit_transform(couleurs)\n",
    "tailles_encode = encoder_taille.fit_transform(tailles)\n",
    "formes_encode = encoder_forme.fit_transform(formes)\n",
    "\n",
    "# Transformation en une liste de tuples pour l'entraînement\n",
    "X_train = list(zip(couleurs_encode, tailles_encode, formes_encode))\n",
    "\n",
    "# Encodage des étiquettes\n",
    "encoder_etiquettes = LabelEncoder()\n",
    "y_train = encoder_etiquettes.fit_transform(etiquettes)"
   ]
  },
  {
   "cell_type": "markdown",
   "metadata": {},
   "source": [
    "#### 3. Construction du modèle\n",
    "Un modèle d'arbre de décision est instancié et entraîné sur les données encodées"
   ]
  },
  {
   "cell_type": "code",
   "execution_count": null,
   "metadata": {},
   "outputs": [],
   "source": [
    "# Créer et entraîner le modèle\n",
    "modele = DecisionTreeClassifier()\n",
    "modele.fit(X_train, y_train)"
   ]
  },
  {
   "cell_type": "markdown",
   "metadata": {},
   "source": [
    "#### 4. Prédiction avec le modèle\n",
    "Le modèle est utilisé pour prédire le type de fruit en fonction de nouvelles caractéristiques."
   ]
  },
  {
   "cell_type": "code",
   "execution_count": null,
   "metadata": {},
   "outputs": [],
   "source": [
    "# Faire des prédictions pour de nouveaux fruits\n",
    "nouveaux_fruits = [\n",
    "    [\"Rouge\", \"Moyenne\", \"Ronde\"],\n",
    "    [\"Jaune\", \"Allongée\", \"Courbée\"],\n",
    "    [\"Vert\", \"Moyenne\", \"Ronde\"],\n",
    "    [\"Noir\", \"Allongée\", \"Courbée\"],\n",
    "    [\"Violet\", \"Petite\", \"Ronde\"],\n",
    "    [\"Jaune\", \"Moyenne\", \"Ronde\"]\n",
    "]\n",
    "\n",
    "# Encodage des nouvelles entrées\n",
    "nouvelles_couleurs = encoder_couleur.transform([fruit[0] for fruit in nouveaux_fruits])\n",
    "nouvelles_tailles = encoder_taille.transform([fruit[1] for fruit in nouveaux_fruits])\n",
    "nouvelles_formes = encoder_forme.transform([fruit[2] for fruit in nouveaux_fruits])\n",
    "X_test = list(zip(nouvelles_couleurs, nouvelles_tailles, nouvelles_formes))\n",
    "\n",
    "# Prédiction et décodage des résultats\n",
    "predictions = modele.predict(X_test)\n",
    "predictions_decode = encoder_etiquettes.inverse_transform(predictions)\n",
    "\n",
    "# Affichage des résultats\n",
    "for fruit, prediction in zip(nouveaux_fruits, predictions_decode):\n",
    "    print(f\"Fruit {fruit} -> Prédiction : {prediction}\")"
   ]
  },
  {
   "cell_type": "markdown",
   "metadata": {},
   "source": [
    "### Analyse des résultats\n",
    "#### 1. Forme des données\n",
    "attributs : Une liste de caractéristiques (couleur, taille, forme) pour chaque fruit.\n",
    "\n",
    "etiquettes : Les types de fruits correspondants.\n",
    "\n",
    "#### 2. Impact des règles\n",
    "Le modèle est capable de prédire le type de fruit en fonction des caractéristiques fournies.\n",
    "\n",
    "Les règles sont basées sur des combinaisons de couleur, taille et forme.\n",
    "\n",
    "#### 3. Remarques\n",
    "Le modèle peut être amélioré en ajoutant plus de données et en ajustant les hyperparamètres de l'arbre de décision.\n",
    "\n",
    "L'encodage des caractéristiques catégorielles est essentiel pour que le modèle puisse les traiter."
   ]
  },
  {
   "cell_type": "markdown",
   "metadata": {},
   "source": [
    "### Proposition de code\n",
    "\n",
    "Le code suivant fait en sorte que le code initial qui nous est proposé et qui est assez manuel, soit cette fois-ci plus dynamique.\n",
    "Ici, au lieu de préntrer les données qui nous permettront de pouvoir deviner le fruit, on proposera à l'utilisateur de lui même entrer les valeurs qu'il souhaite mettre pour que la machine devine son fruit.\n",
    "\n",
    "Il devra entrer, la couleur du fruit, puis sa forme et en fonction de ces informations, il sera possible ou non de deviner le fruit, s'il est au préalable entré dans la base de donnée avec les valeurs qui le correspondent.\n",
    "\n",
    "Plus tard, il sera possible d'ajouter une valeur \"taille\" dans le but de pouvoir affiner un peu plus le code et d'être encore plus précis.\n",
    "C'est la fonctionnalité que l'on ajoutera.\n",
    "\n",
    "Il sera aussi possible d'ajouter d'autres fruits supplémentaires dans le but d'enreichir encore davantage notre code.\n"
   ]
  },
  {
   "cell_type": "code",
   "execution_count": 2,
   "metadata": {},
   "outputs": [
    {
     "name": "stdout",
     "output_type": "stream",
     "text": [
      "\n",
      "🌟 Bienvenue dans le prédicteur de fruits ! 🌟\n",
      "\n",
      "Couleurs possibles : Jaune, Noir, Orange, Rouge, Vert, Violet\n",
      "Formes possibles : Allongée, Petite, Ronde\n",
      "Taille possibles : Grande, Moyenne, Petite\n",
      "\n",
      "🔍 Le fruit prédit est : Citron \n",
      "\n",
      "Merci d'avoir utilisé le prédicteur de fruits ! À bientôt 👋\n"
     ]
    }
   ],
   "source": [
    "from sklearn.tree import DecisionTreeClassifier\n",
    "from sklearn.preprocessing import LabelEncoder\n",
    "\n",
    "# 📌 Données de fruits (plus de diversité pour un meilleur apprentissage)\n",
    "attributs = [\n",
    "    [\"Rouge\", \"Ronde\", \"Moyenne\"],   # Pomme\n",
    "    [\"Jaune\", \"Allongée\", \"Grande\"], # Banane\n",
    "    [\"Orange\", \"Ronde\", \"Moyenne\"],  # Orange\n",
    "    [\"Vert\", \"Ronde\", \"Petite\"],    # Raisin\n",
    "    [\"Violet\", \"Allongée\", \"Grande\"],  # Aubergine\n",
    "    [\"Jaune\", \"Ronde\", \"Moyenne\"],   # Citron\n",
    "    [\"Rouge\", \"Allongée\", \"Moyenne\"], # Poivron rouge\n",
    "    [\"Vert\", \"Allongée\", \"Grande\"], # Concombre\n",
    "    [\"Noir\", \"Ronde\", \"Petite\"],    # Mûre\n",
    "    [\"Jaune\", \"Petite\", \"Petite\"]   # Mirabelle\n",
    "]  \n",
    "\n",
    "# 📌 Étiquettes associées aux données\n",
    "etiquettes = [\"Pomme\", \"Banane\", \"Orange\", \"Raisin\", \"Aubergine\", \"Citron\", \"Poivron\", \"Concombre\", \"Mûre\", \"Mirabelle\"]\n",
    "\n",
    "# 📌 Initialisation des encodeurs\n",
    "encoder_couleur = LabelEncoder()\n",
    "encoder_taille = LabelEncoder()\n",
    "encoder_forme = LabelEncoder()\n",
    "encoder_etiquettes = LabelEncoder()\n",
    "\n",
    "# 📌 Encodage des attributs\n",
    "couleurs = [fruit[0] for fruit in attributs]\n",
    "formes = [fruit[1] for fruit in attributs]\n",
    "tailles = [fruit[2] for fruit in attributs]\n",
    "\n",
    "couleurs_encode = encoder_couleur.fit_transform(couleurs)\n",
    "formes_encode = encoder_forme.fit_transform(formes)\n",
    "tailles_encode = encoder_taille.fit_transform(tailles)\n",
    "\n",
    "# 📌 Transformation des données pour l'entraînement\n",
    "X_train = list(zip(couleurs_encode, formes_encode, tailles_encode))\n",
    "y_train = encoder_etiquettes.fit_transform(etiquettes)\n",
    "\n",
    "# 📌 Création et entraînement du modèle\n",
    "modele = DecisionTreeClassifier()\n",
    "modele.fit(X_train, y_train)\n",
    "\n",
    "# ------------------- INTERACTION UTILISATEUR -------------------\n",
    "\n",
    "print(\"\\n🌟 Bienvenue dans le prédicteur de fruits ! 🌟\")\n",
    "\n",
    "# 📌 Liste des options disponibles\n",
    "couleurs_possibles = list(encoder_couleur.classes_)\n",
    "formes_possibles = list(encoder_forme.classes_)\n",
    "tailles_possible = list(encoder_taille.classes_)\n",
    "\n",
    "print(\"\\nCouleurs possibles :\", \", \".join(couleurs_possibles))\n",
    "print(\"Formes possibles :\", \", \".join(formes_possibles))\n",
    "print(\"Taille possibles :\", \", \".join(tailles_possible))\n",
    "\n",
    "# 📌 Demande interactive à l'utilisateur\n",
    "while True:\n",
    "    input_couleur = input(\"\\nEntrez une couleur : \").capitalize()\n",
    "    input_forme = input(\"Entrez une forme : \").capitalize()\n",
    "    input_taille = input(\"Entrez une taille : \").capitalize()\n",
    "\n",
    "    # Vérifier si l'entrée est valide\n",
    "    if input_couleur not in couleurs_possibles:\n",
    "        print(\"❌ Couleur non reconnue. Essayez encore.\")\n",
    "        continue\n",
    "    if input_forme not in formes_possibles:\n",
    "        print(\"❌ Forme non reconnue. Essayez encore.\")\n",
    "    if input_taille not in tailles_possible :\n",
    "        print(\"❌ Taille non reconnue. Essayez encore.\")\n",
    "        continue\n",
    "\n",
    "    # 📌 Encoder les entrées utilisateur\n",
    "    couleur_encode = encoder_couleur.transform([input_couleur])\n",
    "    forme_encode = encoder_forme.transform([input_forme])\n",
    "    taille_encode = encoder_taille.transform([input_taille])\n",
    "\n",
    "    # 📌 Créer le dataset de test\n",
    "    X_test = list(zip(couleur_encode, forme_encode, taille_encode))\n",
    "\n",
    "    # 📌 Prédiction\n",
    "    prediction = modele.predict(X_test)\n",
    "    prediction_decode = encoder_etiquettes.inverse_transform(prediction)\n",
    "\n",
    "    # 📌 Affichage du résultat\n",
    "    print(f\"\\n🔍 Le fruit prédit est : {prediction_decode[0]} \")\n",
    "\n",
    "    # 📌 Demander si l'utilisateur veut refaire une prédiction\n",
    "    retry = input(\"\\nVoulez-vous faire une autre prédiction ? (Oui/Non) : \").strip().lower()\n",
    "    if retry != \"oui\":\n",
    "        print(\"\\nMerci d'avoir utilisé le prédicteur de fruits ! À bientôt 👋\")\n",
    "        break\n"
   ]
  },
  {
   "cell_type": "markdown",
   "metadata": {},
   "source": [
    "### Explication du code\n",
    "\n",
    "Ce code est un **classificateur de fruits** basé sur un **arbre de décision** entraîné avec Scikit-learn. Il commence par définir un ensemble de données d'entraînement contenant différentes couleurs, formes et tailles de fruits, associées à leur étiquette (exemple : \"Rouge\" \"Ronde\" et \"Moyenne\" pour \"Pomme\").  \n",
    "\n",
    "Les caractéristiques sont ensuite encodées en valeurs numériques à l’aide de `LabelEncoder`, car les modèles de Scikit-learn ne fonctionnent qu’avec des nombres. Après l’encodage, les données sont converties en un format exploitable pour entraîner un `DecisionTreeClassifier`, qui apprend à associer chaque combinaison de couleur et de forme à un type de fruit spécifique.  \n",
    "\n",
    "Une fois le modèle entraîné, le programme devient interactif. L'utilisateur est invité à entrer une couleur, une forme et une taille parmi une liste définie. Le programme vérifie si ces entrées sont valides, les encode de la même manière que les données d'entraînement, puis utilise le modèle pour prédire quel fruit correspond aux caractéristiques fournies.  \n",
    "\n",
    "Enfin, la prédiction est affichée sous forme de texte lisible, et l'utilisateur peut choisir de tester une nouvelle combinaison ou de quitter le programme. Cela permet de simuler un système intelligent capable de reconnaître des fruits en fonction de leurs attributs visuels.\n"
   ]
  },
  {
   "cell_type": "markdown",
   "metadata": {},
   "source": [
    "### Conclusion\n",
    "\n",
    "Le début de notre phase nous a permis de comprendre comment construire un classificateur de fruits basé sur des règles simples. \n",
    "Après avoir compris notre code, nous avons fait en sorte de le dynamiser davantage pour qu'il soit encore plus efficace et utile. \n",
    "Finalement, nous avons pu créer un modèle qui permet de deviner chaque fruit qui est au préalable incorporer dans notre liste à partir de sa couleur, sa forme et sa taille."
   ]
  }
 ],
 "metadata": {
  "kernelspec": {
   "display_name": "Python 3",
   "language": "python",
   "name": "python3"
  },
  "language_info": {
   "codemirror_mode": {
    "name": "ipython",
    "version": 3
   },
   "file_extension": ".py",
   "mimetype": "text/x-python",
   "name": "python",
   "nbconvert_exporter": "python",
   "pygments_lexer": "ipython3",
   "version": "3.13.2"
  }
 },
 "nbformat": 4,
 "nbformat_minor": 2
}
