{
 "cells": [
  {
   "cell_type": "markdown",
   "id": "9279b580",
   "metadata": {},
   "source": [
    "*Filière :* ING3 - Tronc commun\n",
    "\n",
    "*Auteurs :*\n",
    "**Michael KISUKA** et\n",
    "**Nivethan SIVANESAN**\n",
    "\n",
    "*Professeur référent :* \n",
    "**TAJINI Badr**\n",
    "\n",
    "*Année :* 2024-2025\n",
    "\n",
    "**ESIEE-IT**"
   ]
  },
  {
   "cell_type": "markdown",
   "id": "0047c6b3",
   "metadata": {},
   "source": [
    "## Projet : Classification de chiffres manuscrits (MNIST) avec MLP  \n",
    "\n",
    "Ce notebook couvre les phases 4 et 5 du projet :  \n",
    "**Phase 4** : Améliorer la précision du modèle en ajustant son architecture et les hyperparamètres.  \n",
    "**Phase 5** : Visualiser les prédictions et analyser les erreurs à l'aide d'une matrice de confusion."
   ]
  },
  {
   "cell_type": "code",
   "execution_count": null,
   "id": "d23e995d",
   "metadata": {},
   "outputs": [],
   "source": [
    "!pip install numpy scikit-learn matplotlib seaborn"
   ]
  },
  {
   "cell_type": "code",
   "execution_count": null,
   "id": "67ca023b",
   "metadata": {},
   "outputs": [],
   "source": [
    "import numpy as np\n",
    "import matplotlib.pyplot as plt\n",
    "import seaborn as sns\n",
    "from sklearn.datasets import fetch_openml\n",
    "from sklearn.neural_network import MLPClassifier\n",
    "from sklearn.model_selection import train_test_split\n",
    "from sklearn.metrics import accuracy_score, confusion_matrix, classification_report"
   ]
  },
  {
   "cell_type": "markdown",
   "id": "13965c00",
   "metadata": {},
   "source": [
    "## Phase 4 : Amélioration de la précision du modèle MLP  \n",
    "### Objectif  \n",
    "L'objectif est d'améliorer la précision du modèle en ajustant :  \n",
    "- **L'architecture du réseau** (nombre de couches et neurones).  \n",
    "- **La régularisation L2** (`alpha`) pour éviter l'overfitting.  \n",
    "- **L'algorithme d'optimisation** (`adam`, `sgd`)."
   ]
  },
  {
   "cell_type": "markdown",
   "id": "121cc306",
   "metadata": {},
   "source": [
    "### Étapes :  \n",
    "Avant d'améliorer le modèle, il est essentiel de bien comprendre comment ses paramètres influencent la performance. La profondeur du réseau, le nombre de neurones par couche, ainsi que les techniques de régularisation jouent un rôle clé dans l'optimisation. Un bon compromis doit être trouvé entre un modèle trop simple (sous-ajustement) et un modèle trop complexe (sur-ajustement)."
   ]
  },
  {
   "cell_type": "code",
   "execution_count": null,
   "id": "49ee73e1",
   "metadata": {},
   "outputs": [],
   "source": [
    "mnist = fetch_openml('mnist_784', version=1)\n",
    "X = mnist.data.astype(np.float32) / 255.0  # Normalisation des pixels\n",
    "y = mnist.target.astype(int)\n",
    "X_train, X_test, y_train, y_test = train_test_split(X, y, test_size=0.2, random_state=42)"
   ]
  },
  {
   "cell_type": "code",
   "execution_count": null,
   "id": "11643a8c",
   "metadata": {},
   "outputs": [],
   "source": [
    "clf = MLPClassifier(hidden_layer_sizes=(128, 64, 32), activation='relu', solver='adam', \n",
    "                    alpha=0.0005, batch_size=200, learning_rate_init=0.001, max_iter=30, random_state=42)\n",
    "clf.fit(X_train, y_train)\n",
    "y_pred = clf.predict(X_test)\n",
    "accuracy = accuracy_score(y_test, y_pred)\n",
    "print(f'Précision du modèle amélioré : {accuracy:.4f}')"
   ]
  },
  {
   "cell_type": "markdown",
   "id": "a68753fc",
   "metadata": {},
   "source": [
    "## Phase 5 : Visualisation des résultats et analyse des erreurs  \n",
    "### Objectif  \n",
    "Analyser les prédictions du modèle et identifier les erreurs à l'aide de visualisations et d'une matrice de confusion."
   ]
  },
  {
   "cell_type": "markdown",
   "id": "3bbe943c",
   "metadata": {},
   "source": [
    "### Matrice de confusion  \n",
    "Une matrice de confusion permet de mieux comprendre les erreurs du modèle en comparant les valeurs réelles aux prédictions. En examinant cette matrice, on peut identifier les chiffres les plus souvent mal classés et comprendre les similitudes qui induisent ces erreurs."
   ]
  },
  {
   "cell_type": "code",
   "execution_count": null,
   "id": "32905b8d",
   "metadata": {},
   "outputs": [],
   "source": [
    "conf_matrix = confusion_matrix(y_test, y_pred)\n",
    "plt.figure(figsize=(10, 8))\n",
    "sns.heatmap(conf_matrix, annot=True, fmt='d', cmap='Blues')\n",
    "plt.xlabel(\"Prédictions\")\n",
    "plt.ylabel(\"Vraies valeurs\")\n",
    "plt.title(\"Matrice de Confusion\")\n",
    "plt.show()"
   ]
  },
  {
   "cell_type": "markdown",
   "id": "df464cd4",
   "metadata": {},
   "source": [
    "### Rapport de classification  \n",
    "Le rapport de classification fournit des métriques précises telles que la précision, le rappel et le score F1 pour chaque classe. Ces métriques permettent d'identifier si certaines classes sont mieux reconnues que d'autres et si le modèle souffre d'un déséquilibre dans ses prédictions."
   ]
  },
  {
   "cell_type": "code",
   "execution_count": null,
   "id": "7fd6f652",
   "metadata": {},
   "outputs": [],
   "source": [
    "report = classification_report(y_test, y_pred)\n",
    "print(\"\\nRapport de classification:\\n\", report)"
   ]
  },
  {
   "cell_type": "markdown",
   "id": "4ce4b688",
   "metadata": {},
   "source": [
    "### Analyse des résultats  \n",
    "Le modèle atteint une précision de **{accuracy:.4f}**, ce qui montre une amélioration par rapport aux versions précédentes. Cependant, certaines classes restent plus difficiles à classifier, en particulier celles ayant des formes similaires, comme les chiffres 3 et 8. En observant la matrice de confusion, on remarque que le modèle confond souvent ces chiffres, ce qui pourrait être amélioré en intégrant des techniques supplémentaires comme l'augmentation de données ou des architectures plus avancées."
   ]
  }
 ],
 "metadata": {
  "language_info": {
   "name": "python"
  }
 },
 "nbformat": 4,
 "nbformat_minor": 5
}
